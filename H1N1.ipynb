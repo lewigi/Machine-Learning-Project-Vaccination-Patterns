{
 "cells": [
  {
   "cell_type": "markdown",
   "metadata": {},
   "source": [
    "# Final Project Submission\n",
    "\n",
    "Please fill out:\n",
    "* Student name: Lewis Gathua Kamindu\n",
    "* Student pace: Full time\n",
    "* Scheduled project review date/time: 01/12/2023\n",
    "* Instructor name: Lucille Kaleha\n",
    "* Blog post URL: https://github.com/lewigi/Machine-Learning-Project-Vaccination-Patterns"
   ]
  },
  {
   "cell_type": "markdown",
   "metadata": {},
   "source": [
    "# Predicting Vaccination Patterns: Analyzing Backgrounds, Opinions, and Behaviors in H1N1 and Seasonal Flu Vaccination Uptake"
   ]
  },
  {
   "cell_type": "code",
   "execution_count": null,
   "metadata": {},
   "outputs": [],
   "source": []
  }
 ],
 "metadata": {
  "kernelspec": {
   "display_name": "learn-env",
   "language": "python",
   "name": "python3"
  },
  "language_info": {
   "name": "python",
   "version": "3.8.5"
  }
 },
 "nbformat": 4,
 "nbformat_minor": 2
}
